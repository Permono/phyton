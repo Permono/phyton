{
  "nbformat": 4,
  "nbformat_minor": 0,
  "metadata": {
    "colab": {
      "provenance": []
    },
    "kernelspec": {
      "name": "python3",
      "display_name": "Python 3"
    },
    "language_info": {
      "name": "python"
    }
  },
  "cells": [
    {
      "cell_type": "code",
      "execution_count": 3,
      "metadata": {
        "colab": {
          "base_uri": "https://localhost:8080/"
        },
        "id": "KXnn5v2Rv8vL",
        "outputId": "e92be209-49a0-4b05-ce45-a2e028b59df1"
      },
      "outputs": [
        {
          "output_type": "stream",
          "name": "stdout",
          "text": [
            "Jalur DFS: ['Lemari', 'Rak Atas', 'Bumbu', 'Garam']\n"
          ]
        }
      ],
      "source": [
        "def dfs(kitchen, start, goal, path=[]):\n",
        "    path = path + [start]\n",
        "    if start == goal:\n",
        "        return path\n",
        "\n",
        "    for neighbor in kitchen.get(start, []):\n",
        "        if neighbor not in path:\n",
        "            new_path = dfs(kitchen, neighbor, goal, path)\n",
        "            if new_path:\n",
        "                return new_path\n",
        "\n",
        "    return None\n",
        "\n",
        "kitchen = {\n",
        "    'Lemari': ['Rak Atas', 'Rak Bawah'],\n",
        "    'Rak Atas': ['Bumbu'],\n",
        "    'Rak Bawah': ['Beras'],\n",
        "    'Bumbu': ['Garam'],\n",
        "    'Beras': [],\n",
        "    'Garam': []\n",
        "}\n",
        "\n",
        "print(\"Jalur DFS:\", dfs(kitchen, 'Lemari', 'Garam'))\n"
      ]
    }
  ]
}