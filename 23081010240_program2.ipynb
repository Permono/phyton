{
  "nbformat": 4,
  "nbformat_minor": 0,
  "metadata": {
    "colab": {
      "provenance": []
    },
    "kernelspec": {
      "name": "python3",
      "display_name": "Python 3"
    },
    "language_info": {
      "name": "python"
    }
  },
  "cells": [
    {
      "cell_type": "code",
      "execution_count": 2,
      "metadata": {
        "colab": {
          "base_uri": "https://localhost:8080/"
        },
        "id": "KXnn5v2Rv8vL",
        "outputId": "bb9eb4d0-f5d1-405c-a082-9f82659adb6e"
      },
      "outputs": [
        {
          "output_type": "stream",
          "name": "stdout",
          "text": [
            "Angka 30 tidak ditemukan\n"
          ]
        }
      ],
      "source": [
        "def linear_search(bilangan, target):\n",
        "    for i in range(len(bilangan)):\n",
        "        if bilangan[i] == target:\n",
        "            return i\n",
        "    return -1\n",
        "\n",
        "angka = [500, 555, 456, 23, 70]\n",
        "cari = 30\n",
        "hasil = linear_search(angka, cari)\n",
        "\n",
        "if hasil != -1:\n",
        "    print(f\"Angka {cari} ditemukan di indeks {hasil}\")\n",
        "else:\n",
        "    print(f\"Angka {cari} tidak ditemukan\")\n"
      ]
    }
  ]
}