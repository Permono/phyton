{
  "nbformat": 4,
  "nbformat_minor": 0,
  "metadata": {
    "colab": {
      "provenance": []
    },
    "kernelspec": {
      "name": "python3",
      "display_name": "Python 3"
    },
    "language_info": {
      "name": "python"
    }
  },
  "cells": [
    {
      "cell_type": "code",
      "execution_count": 7,
      "metadata": {
        "colab": {
          "base_uri": "https://localhost:8080/"
        },
        "id": "KXnn5v2Rv8vL",
        "outputId": "cdb80c05-686e-488d-a7de-1a038c8d5811"
      },
      "outputs": [
        {
          "output_type": "stream",
          "name": "stdout",
          "text": [
            "Masukkan nama seseorang: Wefa\n",
            "Data keluarga Wefa:\n",
            "  Ayah: Qerko\n",
            "  Ibu: Riyni\n"
          ]
        }
      ],
      "source": [
        "# Program sederhana untuk menentukan apakah seseorang bisa meminjam uang di bank\n",
        "\n",
        "usia = int(input(\"Masukkan usia Anda: \"))\n",
        "penghasilan = float(input(\"Masukkan penghasilan bulanan Anda (dalam juta): \"))\n",
        "\n",
        "if usia >= 21 and penghasilan >= 3:\n",
        "    print(\"Anda memenuhi syarat untuk mengajukan pinjaman.\")\n",
        "else:\n",
        "    print(\"Maaf, Anda tidak memenuhi syarat untuk pinjaman.\")\n"
      ]
    }
  ]
}