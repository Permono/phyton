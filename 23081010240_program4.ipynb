{
  "nbformat": 4,
  "nbformat_minor": 0,
  "metadata": {
    "colab": {
      "provenance": []
    },
    "kernelspec": {
      "name": "python3",
      "display_name": "Python 3"
    },
    "language_info": {
      "name": "python"
    }
  },
  "cells": [
    {
      "cell_type": "code",
      "execution_count": 7,
      "metadata": {
        "colab": {
          "base_uri": "https://localhost:8080/"
        },
        "id": "KXnn5v2Rv8vL",
        "outputId": "cdb80c05-686e-488d-a7de-1a038c8d5811"
      },
      "outputs": [
        {
          "output_type": "stream",
          "name": "stdout",
          "text": [
            "Masukkan nama seseorang: Wefa\n",
            "Data keluarga Wefa:\n",
            "  Ayah: Qerko\n",
            "  Ibu: Riyni\n"
          ]
        }
      ],
      "source": [
        "# Representasi pengetahuan dalam bentuk relasi keluarga\n",
        "\n",
        "keluarga = {\n",
        "    \"Resy\": {\"ayah\": \"Pareq\", \"ibu\": \"Wyrie\"},\n",
        "    \"Krao\": {\"ayah\": \"Asco\", \"ibu\": \"Enden\"},\n",
        "    \"wefa\": {\"ayah\": \"Qerko\", \"ibu\": \"Riyni\"}\n",
        "}\n",
        "\n",
        "nama = input(\"Masukkan nama seseorang: \").lower()\n",
        "\n",
        "if nama in keluarga:\n",
        "    print(f\"Data keluarga {nama.capitalize()}:\")\n",
        "    print(f\"  Ayah: {keluarga[nama]['ayah'].capitalize()}\")\n",
        "    print(f\"  Ibu: {keluarga[nama]['ibu'].capitalize()}\")\n",
        "else:\n",
        "    print(\"Nama tidak ditemukan dalam data yang ada.\")\n"
      ]
    }
  ]
}